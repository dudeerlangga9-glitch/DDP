{
  "nbformat": 4,
  "nbformat_minor": 0,
  "metadata": {
    "colab": {
      "provenance": [],
      "authorship_tag": "ABX9TyO9rzpwgDLZ4kHslGdZL6m4",
      "include_colab_link": true
    },
    "kernelspec": {
      "name": "python3",
      "display_name": "Python 3"
    },
    "language_info": {
      "name": "python"
    }
  },
  "cells": [
    {
      "cell_type": "markdown",
      "metadata": {
        "id": "view-in-github",
        "colab_type": "text"
      },
      "source": [
        "<a href=\"https://colab.research.google.com/github/dudeerlangga9-glitch/DDP/blob/main/pratikum5.ipynb\" target=\"_parent\"><img src=\"https://colab.research.google.com/assets/colab-badge.svg\" alt=\"Open In Colab\"/></a>"
      ]
    },
    {
      "cell_type": "code",
      "execution_count": 9,
      "metadata": {
        "colab": {
          "base_uri": "https://localhost:8080/"
        },
        "id": "qYZc7cmz4gPO",
        "outputId": "b3357d2b-e649-4997-d7ae-2125afb2bbc2"
      },
      "outputs": [
        {
          "output_type": "stream",
          "name": "stdout",
          "text": [
            "['Beat Ember', 'Motor', 200, 'Hitam', 2]\n",
            "['Beat Ember', 'Motor', 200, 'Hitam', 2, 5000, 'metic']\n",
            "['Beat Ember', 'Motor', 'Honda', 200, 'Hitam', 2, 5000, 'metic']\n"
          ]
        }
      ],
      "source": [
        "namaKendaraan = \"Beat Ember\"\n",
        "jenisKendaraan = \"Motor\"\n",
        "ccKendaraan = 200\n",
        "warnaKendaraan = \"Hitam\"\n",
        "rodaKendaraan= 2\n",
        "\n",
        "data_kendaraan=[\n",
        "    namaKendaraan, jenisKendaraan, ccKendaraan, warnaKendaraan, rodaKendaraan]\n",
        "\n",
        "print(data_kendaraan)\n",
        "hargaKendaraan =5000\n",
        "tipeKendaraan = \"metic\"\n",
        "\n",
        "data_kendaraan.append(hargaKendaraan)\n",
        "data_kendaraan.append(tipeKendaraan)\n",
        "print(data_kendaraan)\n",
        "\n",
        "merkKendaraan = \"Honda\"\n",
        "data_kendaraan.insert(2,merkKendaraan)\n",
        "print(data_kendaraan)"
      ]
    },
    {
      "cell_type": "code",
      "source": [
        "# Program menghitung luas bangun datar dengan match case\n",
        "# Cocok dijalankan di Google Colab (Python 3.10 ke atas)\n",
        "\n",
        "print(\"=== Program Menghitung Luas Bangun Datar ===\")\n",
        "print(\"1. Persegi\")\n",
        "print(\"2. Lingkaran\")\n",
        "print(\"3. Segitiga\")\n",
        "\n",
        "# Input pilihan dari pengguna\n",
        "pilihan = int(input(\"Masukkan pilihan (1/2/3): \"))\n",
        "\n",
        "# Gunakan match case untuk menentukan perhitungan\n",
        "match pilihan:\n",
        "    case 1:\n",
        "        # Luas Persegi\n",
        "        sisi = float(input(\"Masukkan panjang sisi persegi: \"))\n",
        "        luas = sisi * sisi\n",
        "        print(f\"Luas persegi adalah {luas}\")\n",
        "    case 2:\n",
        "        # Luas Lingkaran\n",
        "        r = float(input(\"Masukkan jari-jari lingkaran: \"))\n",
        "        luas = 3.14 * r * r\n",
        "        print(f\"Luas lingkaran adalah {luas}\")\n",
        "    case 3:\n",
        "        # Luas Segitiga\n",
        "        alas = float(input(\"Masukkan alas segitiga: \"))\n",
        "        tinggi = float(input(\"Masukkan tinggi segitiga: \"))\n",
        "        luas = 0.5 * alas * tinggi\n",
        "        print(f\"Luas segitiga adalah {luas}\")\n",
        "    case _:\n",
        "        # Jika pilihan tidak valid\n",
        "        print(\"Salah pilih, coba lagi!\")\n",
        "\n",
        "\n",
        "print(\"=== Program Menghitung Luas Lingkaran ===\")\n",
        "\n",
        "# Meminta input dari pengguna\n",
        "r = float(input(\"Masukkan jari-jari lingkaran (cm): \"))\n",
        "\n",
        "# Menghitung luas menggunakan rumus πr²\n",
        "luas = 3.14 * r * r\n",
        "\n",
        "# Menampilkan hasil\n",
        "print(f\"Luas lingkaran dengan jari-jari {r} cm adalah {luas} cm²\")\n",
        "\n",
        "print(\"=== Program Menghitung Luas Segitiga ===\")\n",
        "\n",
        "# Meminta input dari pengguna\n",
        "alas = float(input(\"Masukkan panjang alas segitiga (cm): \"))\n",
        "tinggi = float(input(\"Masukkan tinggi segitiga (cm): \"))\n",
        "\n",
        "# Menghitung luas dengan rumus 1/2 × alas × tinggi\n",
        "luas = 0.5 * alas * tinggi\n",
        "\n",
        "# Menampilkan hasil\n",
        "print(f\"Luas segitiga dengan alas {alas} cm dan tinggi {tinggi} cm adalah {luas} cm²\")"
      ],
      "metadata": {
        "colab": {
          "base_uri": "https://localhost:8080/"
        },
        "id": "lm6-4G6LIkQR",
        "outputId": "f2867301-4e42-4c04-f9ee-d3395d49f61d"
      },
      "execution_count": 38,
      "outputs": [
        {
          "output_type": "stream",
          "name": "stdout",
          "text": [
            "=== Program Menghitung Luas Bangun Datar ===\n",
            "1. Persegi\n",
            "2. Lingkaran\n",
            "3. Segitiga\n",
            "Masukkan pilihan (1/2/3): 1\n",
            "Masukkan panjang sisi persegi: 4\n",
            "Luas persegi adalah 16.0\n",
            "=== Program Menghitung Luas Lingkaran ===\n",
            "Masukkan jari-jari lingkaran (cm): 5\n",
            "Luas lingkaran dengan jari-jari 5.0 cm adalah 78.5 cm²\n",
            "=== Program Menghitung Luas Segitiga ===\n",
            "Masukkan panjang alas segitiga (cm): 6\n",
            "Masukkan tinggi segitiga (cm): 6\n",
            "Luas segitiga dengan alas 6.0 cm dan tinggi 6.0 cm adalah 18.0 cm²\n"
          ]
        }
      ]
    }
  ]
}